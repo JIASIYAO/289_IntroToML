{
 "cells": [
  {
   "cell_type": "markdown",
   "metadata": {},
   "source": [
    "# Classification of Fruits and Vegies\n",
    "I used the dataset of fruits and vegetables that was collected in our class. Instead of operating on the raw pixel values, I operate on extracted HSV colorspace histogram features from the image. HSV histogram features extract the color spectrum of an image, so I expect these features to serve well for distinguishing produce like bananas from apples."
   ]
  },
  {
   "cell_type": "markdown",
   "metadata": {},
   "source": [
    "# Part 1: Dimentionality Reduction\n",
    "The input state x ∈ R^729, which is an HSV histogram generated from an RGB image with a fruit centered in it. Each data point will have a corresponding class label, which corresponds to their matching produce. Given 25 classes, I can denote the label as y ∈ {0, ..., 24}.\n"
   ]
  },
  {
   "cell_type": "markdown",
   "metadata": {},
   "source": [
    "Classification here is still a hard problem because the state space is much larger than the amount of data we obtained in the class – I am trying to perform classification in a 729 dimensional space with only a few hundred data points from each of the 25 classes. In order to obtain higher accuracy, I will examine how to perform hyper-parameter optimization and dimensionality reduction. "
   ]
  },
  {
   "cell_type": "markdown",
   "metadata": {},
   "source": [
    "I will first build out each component and test on a smaller dataset of just 3 categories: apple, banana, eggplant. Then I will combine the components to perform a search over the entire dataset.\n"
   ]
  },
  {
   "cell_type": "markdown",
   "metadata": {},
   "source": [
    "Before I classify our data, I will study how to reduce the dimensionality of our data. I will project some of the dataset into 2D to visualize how effective different dimensionality reduction procedures are. "
   ]
  },
  {
   "cell_type": "markdown",
   "metadata": {},
   "source": [
    "* random projection:  a matrix is randomly created and the data is linearly projected along it. For random projections, it produces a matrix, A ∈ R2×729 where each element Aij is sampled independently from a normal distribution (i.e. Aij ∼ N (0, 1))."
   ]
  },
  {
   "cell_type": "code",
   "execution_count": 20,
   "metadata": {},
   "outputs": [],
   "source": [
    "\n",
    "from numpy.random import uniform\n",
    "from numpy.random import randn\n",
    "import random\n",
    "import time\n",
    "\n",
    "import matplotlib.pyplot as plt\n",
    "\n",
    "from scipy.linalg import eig\n",
    "from scipy.linalg import sqrtm\n",
    "from numpy.linalg import inv\n",
    "from numpy.linalg import svd\n",
    "\n",
    "from utils import create_one_hot_label\n",
    "from utils import subtract_mean_from_data\n",
    "from utils import compute_covariance_matrix\n",
    "\n",
    "import numpy as np\n",
    "import numpy.linalg as LA\n",
    "\n",
    "import sys\n",
    "from numpy.linalg import svd\n",
    "import IPython"
   ]
  },
  {
   "cell_type": "code",
   "execution_count": 21,
   "metadata": {},
   "outputs": [],
   "source": [
    "class Project2D():\n",
    "\n",
    "    ''' Class to draw projection on 2D scatter space'''\n",
    "\n",
    "    def __init__(self,projection, clss_labels):\n",
    "\n",
    "        self.proj = projection\n",
    "        self.clss_labels = clss_labels\n",
    "\n",
    "\n",
    "    def project_data(self,X,Y,white=None):\n",
    "\n",
    "        '''\n",
    "        Takes list of state space and class labels\n",
    "        State space should be 2D\n",
    "        Labels shoud be int'''\n",
    "\n",
    "        p_a = []\n",
    "        p_b = []\n",
    "        p_c = []\n",
    "\n",
    "        ###PROJECT ALL DATA###\n",
    "        proj = np.matmul(self.proj,white)\n",
    "        X_P = np.matmul(proj,np.array(X).T)\n",
    "\n",
    "        for i in range(len(Y)):\n",
    "            if Y[i] == 0:\n",
    "                p_a.append(X_P[:,i])\n",
    "            elif Y[i] == 1:\n",
    "                p_b.append(X_P[:,i])\n",
    "            else:\n",
    "                p_c.append(X_P[:,i])\n",
    "\n",
    "        p_a = np.array(p_a)\n",
    "        p_b = np.array(p_b)\n",
    "        p_c = np.array(p_c)\n",
    "\n",
    "        plt.scatter(p_a[:,0],p_a[:,1],label = 'apple')\n",
    "        plt.scatter(p_b[:,0],p_b[:,1],label = 'banana')\n",
    "        plt.scatter(p_c[:,0],p_c[:,1],label = 'eggplant')\n",
    "        plt.legend()\n",
    "        plt.show()\n"
   ]
  },
  {
   "cell_type": "code",
   "execution_count": 22,
   "metadata": {},
   "outputs": [],
   "source": [
    "class Projections():\n",
    "\n",
    "    def __init__(self,dim_x,classes):\n",
    "        '''\n",
    "        dim_x: the dimension of the state space x\n",
    "        classes: The list of class labels'''\n",
    "\n",
    "        self.d_x = dim_x\n",
    "        self.NUM_CLASSES = len(classes)\n",
    "\n",
    "\n",
    "    def get_random_proj(self):\n",
    "\n",
    "        '''\n",
    "        Return A which is size 2 by 729'''\n",
    "\n",
    "        return randn(2,self.d_x)\n",
    "\n",
    "\n",
    "    def pca_projection(self,X,Y):\n",
    "\n",
    "        '''\n",
    "        Return U_2^T '''\n",
    "                \n",
    "        X,Y= subtract_mean_from_data(X,Y)\n",
    "        C_XX = compute_covariance_matrix(X,X)\n",
    "        u,s,d = svd(C_XX)\n",
    "        return u[:,0:2].T\n",
    "\n",
    "    def cca_projection(self,X,Y,k=2):\n",
    "\n",
    "        '''\n",
    "        Return U_K^T, \\Simgma_{XX}^{-1/2} '''\n",
    "\n",
    "        Y = create_one_hot_label(Y,self.NUM_CLASSES)\n",
    "        X,Y = subtract_mean_from_data(X,Y)\n",
    "\n",
    "\n",
    "        C_XY = compute_covariance_matrix(X,Y)\n",
    "        C_XX = compute_covariance_matrix(X,X)\n",
    "        C_YY = compute_covariance_matrix(Y,Y)\n",
    "\n",
    "        dim_x = C_XX.shape[0]\n",
    "        dim_y = C_YY.shape[0]\n",
    "\n",
    "        A = inv(sqrtm(C_XX+1e-5*np.eye(dim_x)))\n",
    "        B = inv(sqrtm(C_YY+1e-5*np.eye(dim_y)))\n",
    "        C = np.matmul(A,np.matmul(C_XY,B))\n",
    "\n",
    "        u,s,d = svd(C)\n",
    "        return u[:,0:k].T, A\n",
    "\n",
    "    def project(self,proj,white,X):\n",
    "        '''\n",
    "        proj, numpy matrix to perform projection\n",
    "        whit, numpy matrix to perform whitenting\n",
    "        X, list of states\n",
    "        '''\n",
    "\n",
    "        proj = np.matmul(proj,white)\n",
    "        X_P = np.matmul(proj,np.array(X).T)\n",
    "        return list(X_P.T)"
   ]
  },
  {
   "cell_type": "code",
   "execution_count": 23,
   "metadata": {},
   "outputs": [
    {
     "data": {
      "image/png": "[encoded data removed]",
      "text/plain": [
       "<matplotlib.figure.Figure at 0x1107bd6a0>"
      ]
     },
     "metadata": {},
     "output_type": "display_data"
    }
   ],
   "source": [
    "# Load Training Data and Labels\n",
    "X = list(np.load('little_x_train.npy'))\n",
    "Y = list(np.load('little_y_train.npy'))\n",
    "\n",
    "# Load Validation Data and Labels\n",
    "X_val = list(np.load('little_x_val.npy'))\n",
    "Y_val = list(np.load('little_y_val.npy'))\n",
    "\n",
    "CLASS_LABELS = ['apple','banana','eggplant']\n",
    "\n",
    "feat_dim = max(X[0].shape)\n",
    "projections = Projections(feat_dim,CLASS_LABELS)\n",
    "\n",
    "\n",
    "#Show Random 2D Projection\n",
    "rand_proj = projections.get_random_proj()\n",
    "proj2D_viz = Project2D(rand_proj,CLASS_LABELS)\n",
    "proj2D_viz.project_data(X,Y, white = np.eye(feat_dim))"
   ]
  },
  {
   "cell_type": "markdown",
   "metadata": {},
   "source": [
    "* PCA: projects the data into the subspace with the most variance, which is determined via the co- variance matrix ΣXX. We can compute the principal components via the singular value de- composition UΛV T = ΣXX."
   ]
  },
  {
   "cell_type": "code",
   "execution_count": 24,
   "metadata": {},
   "outputs": [
    {
     "name": "stderr",
     "output_type": "stream",
     "text": [
      "/anaconda3/lib/python3.6/site-packages/sklearn/utils/validation.py:475: DataConversionWarning: Data with input dtype int64 was converted to float64 by StandardScaler.\n",
      "  warnings.warn(msg, DataConversionWarning)\n"
     ]
    },
    {
     "data": {
      "image/png": "[encoded data removed]",
      "text/plain": [
       "<matplotlib.figure.Figure at 0x1107bdd68>"
      ]
     },
     "metadata": {},
     "output_type": "display_data"
    }
   ],
   "source": [
    "#PCA Projection\n",
    "pca_proj = projections.pca_projection(X,Y)\n",
    "proj2D_viz = Project2D(pca_proj,CLASS_LABELS)\n",
    "proj2D_viz.project_data(X,Y, white = np.eye(feat_dim))"
   ]
  },
  {
   "cell_type": "markdown",
   "metadata": {},
   "source": [
    "* CCA:\n",
    "we must first turn our labels y into a one-hot encoding vector y ∈ {0, 1}J, where each elementcorresponds to the label. Note J is the number of class labels, which is J = 3 for this part. Next we need to compute the canonical correlation matrix ΣXX^{-1/2}ΣXY ΣYY^{-1/2}. and compute the singular value decomposition."
   ]
  },
  {
   "cell_type": "code",
   "execution_count": 25,
   "metadata": {},
   "outputs": [
    {
     "name": "stderr",
     "output_type": "stream",
     "text": [
      "/anaconda3/lib/python3.6/site-packages/numpy/core/numeric.py:583: ComplexWarning: Casting complex values to real discards the imaginary part\n",
      "  return array(a, dtype, copy=False, order=order, subok=True)\n"
     ]
    },
    {
     "data": {
      "image/png": "[encoded data removed]",
      "text/plain": [
       "<matplotlib.figure.Figure at 0x110974518>"
      ]
     },
     "metadata": {},
     "output_type": "display_data"
    }
   ],
   "source": [
    "#Show CCA 2D Projection\n",
    "cca_proj,white_cov = projections.cca_projection(X,Y)\n",
    "proj2D_viz = Project2D(cca_proj,CLASS_LABELS)\n",
    "proj2D_viz.project_data(X,Y,white = white_cov)"
   ]
  },
  {
   "cell_type": "markdown",
   "metadata": {},
   "source": [
    "Conclusion: Among the dimension reduction methods I have tried, CCA  is the best for separation among classes, so I decide to use CCA to extract effective features. "
   ]
  },
  {
   "cell_type": "code",
   "execution_count": 26,
   "metadata": {},
   "outputs": [],
   "source": [
    "X = projections.project(cca_proj,white_cov,X)\n",
    "X_val = projections.project(cca_proj,white_cov,X_val)"
   ]
  },
  {
   "cell_type": "markdown",
   "metadata": {},
   "source": [
    "# Part 1: Classification\n",
    "We will now examine ways to perform classification using the smaller projected space from CCA as our features."
   ]
  },
  {
   "cell_type": "markdown",
   "metadata": {},
   "source": [
    "First let's define Generic wrapper for specific model instance."
   ]
  },
  {
   "cell_type": "code",
   "execution_count": 27,
   "metadata": {},
   "outputs": [],
   "source": [
    "from numpy.random import uniform\n",
    "from numpy.random import uniform\n",
    "import random\n",
    "import time\n",
    "\n",
    "\n",
    "import numpy as np\n",
    "import numpy.linalg as LA\n",
    "\n",
    "import sys\n",
    "\n",
    "from sklearn.linear_model import Ridge\n",
    "\n",
    "from utils import create_one_hot_label\n",
    "\n",
    "import matplotlib.pyplot as plt"
   ]
  },
  {
   "cell_type": "code",
   "execution_count": 28,
   "metadata": {},
   "outputs": [],
   "source": [
    "class Model():\n",
    "    \"\"\" Generic wrapper for specific model instance. \"\"\"\n",
    "\n",
    "    def __init__(self, model):\n",
    "        \"\"\" Store specific pre-initialized model instance. \"\"\"\n",
    "        self.model = model\n",
    "\n",
    "\n",
    "    def train_model(self,X,Y): \n",
    "        \"\"\" Train using specific model's training function. \"\"\"\n",
    "        self.model.train_model(X,Y)\n",
    "        \n",
    "    def test_model(self,X,Y):\n",
    "        \"\"\" Test using specific model's eval function. \"\"\"\n",
    "        if hasattr(self.model, \"evals\"):\n",
    "            labels = np.array(Y)\n",
    "            p_labels = self.model.evals(X)\n",
    "        else:\n",
    "            labels = []                         # List of actual labels\n",
    "            p_labels = []                       # List of model's predictions\n",
    "            success = 0                         # Number of correct predictions\n",
    "            total_count = 0                     # Number of images\n",
    "\n",
    "            for i in range(len(X)):\n",
    "                x = X[i]                        # Test input\n",
    "                y = Y[i]                        # Actual label\n",
    "                y_ = self.model.eval(x)         # Model's prediction\n",
    "                labels.append(y)\n",
    "                p_labels.append(y_)\n",
    "\n",
    "                if y == y_:\n",
    "                    success += 1\n",
    "                total_count +=1                 \n",
    "                \n",
    "        print(\"Computing Confusion Matrix\")\n",
    "        # Compute Confusion Matrix\n",
    "        getConfusionMatrixPlot(labels,p_labels,CLASS_LABELS)"
   ]
  },
  {
   "cell_type": "markdown",
   "metadata": {},
   "source": [
    "The define a function to plot the confusion matrix"
   ]
  },
  {
   "cell_type": "code",
   "execution_count": 29,
   "metadata": {},
   "outputs": [],
   "source": [
    "from sklearn.metrics import confusion_matrix\n",
    "\n",
    "def main():\n",
    "    \"\"\"\n",
    "    Result\n",
    "    Plot RANDOM confusion matrix (true labels vs. predicted labels)\n",
    "    \"\"\"\n",
    "    true_labels = [random.randint(1, 10) for i in range(100)]\n",
    "    predicted_labels = [random.randint(1, 10) for i in range(100)]\n",
    "\n",
    "    # Plot confusion matrix (true labels vs. predicted labels)\n",
    "    plot = getConfusionMatrixPlot(true_labels, predicted_labels)\n",
    "    plot.show()\n",
    "\n",
    "\n",
    "def getConfusionMatrix(true_labels, predicted_labels):\n",
    "    \"\"\"\n",
    "    Input\n",
    "    true_labels: actual labels\n",
    "    predicted_labels: model's predicted labels\n",
    "\n",
    "    Output\n",
    "    cm: confusion matrix (true labels vs. predicted labels)\n",
    "    \"\"\"\n",
    "\n",
    "    # Generate confusion matrix using sklearn.metrics\n",
    "    cm = confusion_matrix(true_labels, predicted_labels)\n",
    "    return cm\n",
    "\n",
    "\n",
    "def plotConfusionMatrix(cm, alphabet):\n",
    "    \"\"\"\n",
    "    Input\n",
    "    cm: confusion matrix (true labels vs. predicted labels)\n",
    "    alphabet: names of class labels\n",
    "\n",
    "    Output\n",
    "    Plot confusion matrix (true labels vs. predicted labels)\n",
    "    \"\"\"\n",
    "\n",
    "    fig = plt.figure()\n",
    "    plt.clf()                       # Clear plot\n",
    "    ax = fig.add_subplot(111)       # Add 1x1 grid, first subplot\n",
    "    ax.set_aspect(1)\n",
    "    res = ax.imshow(cm, cmap=plt.cm.binary, interpolation='nearest', vmin=0, vmax=80)\n",
    "\n",
    "    plt.colorbar(res)               # Add color bar\n",
    "\n",
    "    width = len(cm)                 # Width of confusion matrix\n",
    "    height = len(cm[0])             # Height of confusion matrix\n",
    "\n",
    "    # Annotate confusion entry with numeric value\n",
    "    for x in range(width):\n",
    "        for y in range(height):\n",
    "            ax.annotate(str(cm[x][y]), xy=(y, x), horizontalalignment='center',\n",
    "                        verticalalignment='center', color=getFontColor(cm[x][y]))\n",
    "\n",
    "\n",
    "    # Plot confusion matrix (true labels vs. predicted labels)\n",
    "    plt.xticks(range(width), alphabet[:width], rotation=90)\n",
    "    plt.yticks(range(height), alphabet[:height])\n",
    "    plt.show()\n",
    "    return plt\n",
    "\n",
    "\n",
    "def getConfusionMatrixPlot(true_labels, predicted_labels, alphabet):\n",
    "    \"\"\"\n",
    "    Input\n",
    "    true_labels: actual labels\n",
    "    predicted_labels: model's predicted labels\n",
    "    alphabet: names of class labels\n",
    "\n",
    "    Output\n",
    "    Plot confusion matrix (true labels vs. predicted labels)\n",
    "    \"\"\"\n",
    "\n",
    "    # Generate confusion matrix using sklearn.metrics\n",
    "    cm = confusion_matrix(true_labels, predicted_labels)\n",
    "    print(cm)\n",
    "\n",
    "    # Plot confusion matrix (true labels vs. predicted labels)\n",
    "    return plotConfusionMatrix(cm, alphabet)\n",
    "\n",
    "\n",
    "def getFontColor(value):\n",
    "    \"\"\"\n",
    "    Input\n",
    "    value: confusion entry value\n",
    "\n",
    "    Output\n",
    "    font color for confusion entry\n",
    "    \"\"\"\n",
    "    if value < -1:\n",
    "        return \"black\"\n",
    "    else:\n",
    "        return \"white\"\n",
    "\n",
    "\n"
   ]
  },
  {
   "cell_type": "markdown",
   "metadata": {},
   "source": [
    "* Ridge Regression:"
   ]
  },
  {
   "cell_type": "code",
   "execution_count": 30,
   "metadata": {},
   "outputs": [],
   "source": [
    "class Ridge_Model(): \n",
    "\n",
    "    def __init__(self,class_labels):\n",
    "        self.lmbda = 1.0\n",
    "        self.NUM_CLASSES = len(class_labels)\n",
    "                \n",
    "    def train_model(self,X,Y): \n",
    "        Y_one_hot = create_one_hot_label(Y,self.NUM_CLASSES)\n",
    "        self.ridge = Ridge(alpha=self.lmbda)\n",
    "        self.ridge.fit(X,Y_one_hot)\n",
    "\n",
    "    def eval(self,x):\n",
    "        x = np.array(x)\n",
    "        if len(x.shape)==1:\n",
    "            x = np.reshape(x, (1, -1))\n",
    "        prediction = self.ridge.predict(x)\n",
    "        return np.argmax(prediction)"
   ]
  },
  {
   "cell_type": "code",
   "execution_count": 32,
   "metadata": {},
   "outputs": [
    {
     "name": "stderr",
     "output_type": "stream",
     "text": [
      "/anaconda3/lib/python3.6/site-packages/sklearn/utils/validation.py:433: ComplexWarning: Casting complex values to real discards the imaginary part\n",
      "  array = np.array(array, dtype=dtype, order=order, copy=copy)\n"
     ]
    },
    {
     "name": "stdout",
     "output_type": "stream",
     "text": [
      "Computing Confusion Matrix\n",
      "[[310  15   0]\n",
      " [ 10 298   1]\n",
      " [  2   0 240]]\n"
     ]
    },
    {
     "data": {
      "image/png": "[encoded data removed]",
      "text/plain": [
       "<matplotlib.figure.Figure at 0x1a1f616668>"
      ]
     },
     "metadata": {},
     "output_type": "display_data"
    },
    {
     "name": "stdout",
     "output_type": "stream",
     "text": [
      "Computing Confusion Matrix\n",
      "[[83 17  3]\n",
      " [ 6 98  4]\n",
      " [ 9  8 76]]\n"
     ]
    },
    {
     "data": {
      "image/png": "[encoded data removed]",
      "text/plain": [
       "<matplotlib.figure.Figure at 0x1a1f6e6fd0>"
      ]
     },
     "metadata": {},
     "output_type": "display_data"
    }
   ],
   "source": [
    "ridge_m = Ridge_Model(CLASS_LABELS)\n",
    "model = Model(ridge_m)\n",
    "\n",
    "model.train_model(X,Y)\n",
    "model.test_model(X,Y)\n",
    "model.test_model(X_val,Y_val)"
   ]
  },
  {
   "cell_type": "markdown",
   "metadata": {},
   "source": [
    "* LDA： assuming each p(x|y = j) is a normal distribution with mean μj and covariance Σ. Notice that the covariance matrix is assumed to be the same for all the class labels. LDA works by fitting μj and Σ on the dimensionality-reduced dataset. During prediction, the class with the highest likelihood is chosen."
   ]
  },
  {
   "cell_type": "code",
   "execution_count": 33,
   "metadata": {},
   "outputs": [],
   "source": [
    "class LDA_Model():\n",
    "\n",
    "    def __init__(self,class_labels):\n",
    "        ###SCALE AN IDENTITY MATRIX BY THIS TERM AND ADD TO COMPUTED COVARIANCE MATRIX TO PREVENT IT BEING SINGULAR ###\n",
    "        self.reg_cov = 0.001\n",
    "        self.NUM_CLASSES = len(class_labels)\n",
    "\n",
    "\n",
    "\n",
    "    def train_model(self,X,Y): \n",
    "        ''''\n",
    "        FILL IN CODE TO TRAIN MODEL\n",
    "        MAKE SURE TO ADD HYPERPARAMTER TO MODEL \n",
    "        '''\n",
    "        self.u = []\n",
    "        for i in range(self.NUM_CLASSES):\n",
    "            idx = np.where(np.array(Y)==i)[0]\n",
    "            self.u.append(np.mean(np.array(X)[idx], axis=0))\n",
    "        self.sig = np.cov(np.array(X).T)\n",
    "        self.sig += np.identity(len(self.sig))*self.reg_cov\n",
    "            \n",
    "\n",
    "    def eval(self,x):\n",
    "        ''''\n",
    "        Fill in code to evaluate model and return a prediction\n",
    "        Prediction should be an integer specifying a class\n",
    "        '''\n",
    "        y = []\n",
    "        for i in range(self.NUM_CLASSES): \n",
    "            y.append((x-self.u[i]) @ inv(self.sig) @ (x-self.u[i]).T)\n",
    "        return np.argmin(y)\n",
    "\n",
    " "
   ]
  },
  {
   "cell_type": "code",
   "execution_count": 35,
   "metadata": {},
   "outputs": [
    {
     "name": "stdout",
     "output_type": "stream",
     "text": [
      "Computing Confusion Matrix\n",
      "[[310  15   0]\n",
      " [ 10 298   1]\n",
      " [  2   1 239]]\n"
     ]
    },
    {
     "data": {
      "image/png": "[encoded data removed]",
      "text/plain": [
       "<matplotlib.figure.Figure at 0x1a180a0898>"
      ]
     },
     "metadata": {},
     "output_type": "display_data"
    },
    {
     "name": "stdout",
     "output_type": "stream",
     "text": [
      "Computing Confusion Matrix\n",
      "[[83 17  3]\n",
      " [ 6 99  3]\n",
      " [ 9  9 75]]\n"
     ]
    },
    {
     "data": {
      "image/png": "[encoded data removed]",
      "text/plain": [
       "<matplotlib.figure.Figure at 0x1a18053908>"
      ]
     },
     "metadata": {},
     "output_type": "display_data"
    }
   ],
   "source": [
    "lda_m = LDA_Model(CLASS_LABELS)\n",
    "model = Model(lda_m)\n",
    "\n",
    "model.train_model(X,Y)\n",
    "model.test_model(X,Y)\n",
    "model.test_model(X_val,Y_val)"
   ]
  },
  {
   "cell_type": "markdown",
   "metadata": {},
   "source": [
    "* QDA： LDA makes an assumption that all classes have the same covariance matrix. We can relax this assumption with QDA. In QDA, we will now parametrize each conditional distribution (still normal) by μj and Σj . "
   ]
  },
  {
   "cell_type": "code",
   "execution_count": 37,
   "metadata": {},
   "outputs": [],
   "source": [
    "class QDA_Model(): \n",
    "    def __init__(self,class_labels):\n",
    "        ###SCALE AN IDENTITY MATRIX BY THIS TERM AND ADD TO COMPUTED COVARIANCE MATRIX TO PREVENT IT BEING SINGULAR ###\n",
    "        self.reg_cov = 0.01\n",
    "        self.NUM_CLASSES = len(class_labels)\n",
    "\n",
    "\n",
    "\n",
    "    def train_model(self,X,Y): \n",
    "        ''''\n",
    "        FILL IN CODE TO TRAIN MODEL\n",
    "        MAKE SURE TO ADD HYPERPARAMTER TO MODEL \n",
    "\n",
    "        '''\n",
    "        self.u = []\n",
    "        self.sig = []\n",
    "        for i in range(self.NUM_CLASSES):\n",
    "            idx = np.where(np.array(Y)==i)[0]\n",
    "            self.u.append(np.mean(np.array(X)[idx], axis=0))\n",
    "            sig = np.cov(np.array(X)[idx].T)\n",
    "            sig += np.identity(len(sig))*self.reg_cov\n",
    "            self.sig.append(sig)\n",
    "\n",
    "    def eval(self,x):\n",
    "        ''''\n",
    "        Fill in code to evaluate model and return a prediction\n",
    "        Prediction should be an integer specifying a class\n",
    "        '''\n",
    "        y = []\n",
    "        for i in range(self.NUM_CLASSES): \n",
    "            y.append((x-self.u[i]) @ inv(self.sig[i]) @ (x-self.u[i]).T + np.log(det(self.sig[i])))\n",
    "        return np.argmin(y)\n",
    "\n",
    "\n",
    " "
   ]
  },
  {
   "cell_type": "code",
   "execution_count": 39,
   "metadata": {},
   "outputs": [
    {
     "name": "stdout",
     "output_type": "stream",
     "text": [
      "Computing Confusion Matrix\n",
      "[[311  14   0]\n",
      " [  9 299   1]\n",
      " [  2   1 239]]\n"
     ]
    },
    {
     "data": {
      "image/png": "[encoded data removed]",
      "text/plain": [
       "<matplotlib.figure.Figure at 0x1a1bd6f160>"
      ]
     },
     "metadata": {},
     "output_type": "display_data"
    },
    {
     "name": "stdout",
     "output_type": "stream",
     "text": [
      "Computing Confusion Matrix\n",
      "[[83 17  3]\n",
      " [ 6 99  3]\n",
      " [ 9  9 75]]\n"
     ]
    },
    {
     "data": {
      "image/png": "[encoded data removed]",
      "text/plain": [
       "<matplotlib.figure.Figure at 0x1a1f6d4208>"
      ]
     },
     "metadata": {},
     "output_type": "display_data"
    }
   ],
   "source": [
    "from numpy.linalg import det\n",
    "\n",
    "qda_m = QDA_Model(CLASS_LABELS)\n",
    "model = Model(qda_m)\n",
    "\n",
    "model.train_model(X,Y)\n",
    "model.test_model(X,Y)\n",
    "model.test_model(X_val,Y_val)"
   ]
  },
  {
   "cell_type": "markdown",
   "metadata": {},
   "source": [
    "* Linear SVM: fits a hyperplane to separate the dimensionality-reduced data."
   ]
  },
  {
   "cell_type": "code",
   "execution_count": 43,
   "metadata": {},
   "outputs": [],
   "source": [
    "from sklearn.svm import LinearSVC\n",
    "class SVM_Model(): \n",
    "    def __init__(self,class_labels,projection=None):\n",
    "        self.C = 1.0\n",
    "                \n",
    "    def train_model(self,X,Y): \n",
    "        self.svm = LinearSVC(C=self.C)\n",
    "        self.svm.fit(X,Y)\n",
    "                \n",
    "    def eval(self,x):\n",
    "        prediction = self.svm.predict(np.array([x]))\n",
    "        return prediction[0]\n",
    "\n",
    "    def scores(self, x):\n",
    "        return self.svm.decision_function(np.array(x))\n",
    "\n",
    "\n"
   ]
  },
  {
   "cell_type": "code",
   "execution_count": 44,
   "metadata": {},
   "outputs": [
    {
     "name": "stderr",
     "output_type": "stream",
     "text": [
      "/anaconda3/lib/python3.6/site-packages/sklearn/utils/validation.py:433: ComplexWarning: Casting complex values to real discards the imaginary part\n",
      "  array = np.array(array, dtype=dtype, order=order, copy=copy)\n"
     ]
    },
    {
     "name": "stdout",
     "output_type": "stream",
     "text": [
      "Computing Confusion Matrix\n",
      "[[311  14   0]\n",
      " [ 10 298   1]\n",
      " [  2   1 239]]\n"
     ]
    },
    {
     "data": {
      "image/png": "[encoded data removed]",
      "text/plain": [
       "<matplotlib.figure.Figure at 0x1a1f1214a8>"
      ]
     },
     "metadata": {},
     "output_type": "display_data"
    },
    {
     "name": "stdout",
     "output_type": "stream",
     "text": [
      "Computing Confusion Matrix\n",
      "[[83 17  3]\n",
      " [ 7 97  4]\n",
      " [ 7  9 77]]\n"
     ]
    },
    {
     "data": {
      "image/png": "[encoded data removed]",
      "text/plain": [
       "<matplotlib.figure.Figure at 0x1a1f1a2828>"
      ]
     },
     "metadata": {},
     "output_type": "display_data"
    }
   ],
   "source": [
    "svm_m = SVM_Model(CLASS_LABELS)\n",
    "model = Model(svm_m)\n",
    "\n",
    "model.train_model(X,Y)\n",
    "model.test_model(X,Y)\n",
    "model.test_model(X_val,Y_val)"
   ]
  },
  {
   "cell_type": "markdown",
   "metadata": {},
   "source": [
    "* Logistic Regression"
   ]
  },
  {
   "cell_type": "code",
   "execution_count": 47,
   "metadata": {},
   "outputs": [],
   "source": [
    "from sklearn.linear_model import LogisticRegression\n",
    "\n",
    "class Logistic_Model(): \n",
    "    def __init__(self,class_labels,projection=None):\n",
    "        self.C = 1.0\n",
    "\n",
    "    def train_model(self,X,Y): \n",
    "        self.lr = LogisticRegression(C=self.C)\n",
    "        self.lr.fit(X,Y)\n",
    "                \n",
    "    def eval(self,x):\n",
    "        prediction = self.lr.predict(np.array([x]))\n",
    "        return prediction[0]\n",
    "\n",
    "    def scores(self, x):\n",
    "        return self.lr.decision_function(np.array(x))"
   ]
  },
  {
   "cell_type": "code",
   "execution_count": 48,
   "metadata": {},
   "outputs": [
    {
     "name": "stderr",
     "output_type": "stream",
     "text": [
      "/anaconda3/lib/python3.6/site-packages/sklearn/utils/validation.py:433: ComplexWarning: Casting complex values to real discards the imaginary part\n",
      "  array = np.array(array, dtype=dtype, order=order, copy=copy)\n"
     ]
    },
    {
     "name": "stdout",
     "output_type": "stream",
     "text": [
      "Computing Confusion Matrix\n",
      "[[311  14   0]\n",
      " [ 10 298   1]\n",
      " [  2   0 240]]\n"
     ]
    },
    {
     "data": {
      "image/png": "[encoded data removed]",
      "text/plain": [
       "<matplotlib.figure.Figure at 0x1a17f1dcf8>"
      ]
     },
     "metadata": {},
     "output_type": "display_data"
    },
    {
     "name": "stdout",
     "output_type": "stream",
     "text": [
      "Computing Confusion Matrix\n",
      "[[83 17  3]\n",
      " [ 7 97  4]\n",
      " [ 9  7 77]]\n"
     ]
    },
    {
     "data": {
      "image/png": "[encoded data removed]",
      "text/plain": [
       "<matplotlib.figure.Figure at 0x1108895c0>"
      ]
     },
     "metadata": {},
     "output_type": "display_data"
    }
   ],
   "source": [
    "lr_m = Logistic_Model(CLASS_LABELS)\n",
    "model = Model(lr_m)\n",
    "\n",
    "model.train_model(X,Y)\n",
    "model.test_model(X,Y)\n",
    "model.test_model(X_val,Y_val)"
   ]
  },
  {
   "cell_type": "markdown",
   "metadata": {},
   "source": [
    "# Part 3: Understanding Classifier's performance using ROC\n",
    "\n",
    "In a two class classification problem, we can compare the prediction to the labels. Specifically, we count the number of True Positives (TP), False Positives (FP), False Negatives (FN) and True Negatives (TN). \n",
    "\n",
    "The true positive rate (TPR) measures how many positive examples out of all positive examples have been detected, con- cretely, TPR = TP/(TP+FN). The false positive rate (FPR) measures the proportion of negative examples that are mistakenly classified as positive, concretely, FPR = FP/(FP + TN).\n",
    "\n",
    "A perfect classifier would have TPR = 1.0 and FPR = 0.0. However, in the real world, we usually do not have such a classifier. Requiring a higher TPR usually incurs the cost of a higher FPR, since that makes the classifier predict more positive outcomes. An ROC plots the trade off between TPR and FPR in a graphical manner. One way to get an ROC curve is to first obtain a set of scalar prediction scores, one for each of the validation samples. A higher score means that the classifier believes the sample is more likely to be a positive example. For each of the possible thresholds for the classifier, we can compute the TPR and FPR. After getting all (TPR, FPR) pairs, we can plot the ROC curve. "
   ]
  },
  {
   "cell_type": "code",
   "execution_count": 50,
   "metadata": {},
   "outputs": [],
   "source": [
    "def compute_tp_fp(thres, scores, labels):\n",
    "    \"\"\" Calculate TPR and FPR\"\"\"\n",
    "    scores = np.array(scores)\n",
    "    prediction = (scores > thres)\n",
    "    tp = np.sum(prediction * labels)\n",
    "    tpr = 1.0 * tp / np.sum(labels)\n",
    "\n",
    "    fp = np.sum(prediction * (1-labels))\n",
    "    fpr = 1.0*fp / np.sum(1-labels)\n",
    "    return tpr, fpr\n",
    "\n",
    "def plot_ROC(tps, fps):\n",
    "    \"\"\"plot tpr VS fpr\"\"\"\n",
    "    plt.plot(fps, tps)\n",
    "    plt.ylabel(\"True Positive Rates\")\n",
    "    plt.xlabel(\"False Positive Rates\")\n",
    "        \n",
    "\n",
    "\n",
    "def ROC(scores, labels):\n",
    "    \"\"\"calculate tps and fps at different threshold\"\"\"\n",
    "    thresholds = sorted(np.unique(scores))\n",
    "    thresholds = [-float(\"Inf\")] + thresholds + [float(\"Inf\")]\n",
    "    tps = []\n",
    "    fps = []\n",
    "\n",
    "    for thres in thresholds:\n",
    "        tpr, fpr = compute_tp_fp(thres, scores, labels)\n",
    "        tps.append(tpr)\n",
    "        fps.append(fpr)\n",
    "    return tps, fps\n",
    "        \n",
    "\n",
    "def eval_with_ROC(method, train_X, train_Y, val_X, val_Y, C):\n",
    "    m = method(CLASS_LABELS)\n",
    "    m.C = C\n",
    "    m.train_model(train_X, train_Y)\n",
    "    scores = m.scores(val_X)\n",
    "\n",
    "    # change the scores here\n",
    "    scores = 10.0 * np.array(scores)\n",
    "    tps, fps = ROC(scores, val_Y)\n",
    "    plot_ROC(tps, fps)\n",
    "\n",
    "def trim_data(X, Y):\n",
    "    # throw away the 3rd class data\n",
    "    X = np.array(X)\n",
    "    Y = np.array(Y)\n",
    "    retain = (Y < 2)\n",
    "    return X[retain, :], Y[retain]\n",
    "\n"
   ]
  },
  {
   "cell_type": "code",
   "execution_count": 51,
   "metadata": {},
   "outputs": [
    {
     "name": "stderr",
     "output_type": "stream",
     "text": [
      "/anaconda3/lib/python3.6/site-packages/sklearn/utils/validation.py:433: ComplexWarning: Casting complex values to real discards the imaginary part\n",
      "  array = np.array(array, dtype=dtype, order=order, copy=copy)\n"
     ]
    },
    {
     "data": {
      "image/png": "[encoded data removed]",
      "text/plain": [
       "<matplotlib.figure.Figure at 0x1a1b94ee48>"
      ]
     },
     "metadata": {},
     "output_type": "display_data"
    }
   ],
   "source": [
    "# Load Training Data and Labels\n",
    "X = list(np.load('little_x_train.npy'))\n",
    "Y = list(np.load('little_y_train.npy'))\n",
    "X, Y = trim_data(X, Y)\n",
    "\n",
    "# Load Validation Data and Labels\n",
    "X_val = list(np.load('little_x_val.npy'))\n",
    "Y_val = list(np.load('little_y_val.npy'))\n",
    "X_val, Y_val = trim_data(X_val, Y_val)\n",
    "\n",
    "CLASS_LABELS = ['apple','banana']\n",
    "\n",
    "# Project Data to 200 Dimensions using CCA\n",
    "feat_dim = max(X[0].shape)\n",
    "projections = Projections(feat_dim,CLASS_LABELS)\n",
    "cca_proj,white_cov = projections.cca_projection(X,Y,k=2)\n",
    "\n",
    "X = projections.project(cca_proj,white_cov,X)\n",
    "X_val = projections.project(cca_proj,white_cov,X_val)\n",
    "\n",
    "\n",
    "####RUN SVM REGRESSION#####\n",
    "eval_with_ROC(SVM_Model, X, Y, X_val, Y_val, 1.0)\n",
    "eval_with_ROC(SVM_Model, X, Y, X_val, Y_val, 100000.0)\n",
    "plt.legend([\"C=1.0\", \"C=100000.0\"])\n",
    "plt.show()"
   ]
  },
  {
   "cell_type": "markdown",
   "metadata": {},
   "source": [
    "From this plot, we can see C=1.0 is a better choice."
   ]
  },
  {
   "cell_type": "markdown",
   "metadata": {},
   "source": [
    "# part 4: Classification for full dataset\n",
    "We will finally train on the full dataset and compare the different models. We will perform a grid search over the following hyperparameters:\n",
    "(a) The regularization term λ in Ridge Regression.\n",
    "(b) The weighting on slack variables, C in the linear SVM. \n",
    "(c) The number of dimensions, k we project to using CCA.\n"
   ]
  },
  {
   "cell_type": "code",
   "execution_count": 53,
   "metadata": {},
   "outputs": [],
   "source": [
    "CLASS_LABELS = ['apple','banana','nectarine','plum','peach','watermelon','pear','mango','grape','orange','strawberry','pineapple', \n",
    "        'radish','carrot','potato','tomato','bellpepper','broccoli','cabbage','cauliflower','celery','eggplant','garlic','spinach','ginger']\n",
    "\n",
    "def eval_model(X,Y,k,model_key,proj):\n",
    "    # PROJECT DATA \n",
    "    cca_proj,white_cov = proj.cca_projection(X,Y,k=k)\n",
    "\n",
    "    X_p = proj.project(cca_proj,white_cov,X)\n",
    "    X_val_p = proj.project(cca_proj,white_cov,X_val)\n",
    "\n",
    "    # TRAIN MODEL \n",
    "    model = models[model_key]\n",
    "\n",
    "    model.train_model(X_p,Y)\n",
    "    acc,cm = model.test_model(X_val_p,Y_val)\n",
    "\n",
    "    return acc,cm\n",
    "\n",
    "\n",
    "class Model(): \n",
    "    \"\"\" Generic wrapper for specific model instance. \"\"\"\n",
    "\n",
    "\n",
    "    def __init__(self,model):\n",
    "        \"\"\" Store specific pre-initialized model instance. \"\"\"\n",
    "\n",
    "        self.model = model\n",
    "\n",
    "\n",
    "    def train_model(self,X,Y): \n",
    "        \"\"\" Train using specific model's training function. \"\"\"\n",
    "                \n",
    "        self.model.train_model(X,Y)\n",
    "        \n",
    "\n",
    "    def test_model(self,X,Y):\n",
    "        \"\"\" Test using specific model's eval function. \"\"\"\n",
    "        if hasattr(self.model, \"evals\"):\n",
    "            labels = np.array(Y)\n",
    "            p_labels = self.model.evals(X)\n",
    "            success =np.sum(labels == p_labels)\n",
    "            total_count = len(X)\n",
    "\n",
    "        else:\n",
    "            labels = []                        # List of actual labels\n",
    "            p_labels = []                      # List of model's predictions\n",
    "            success = 0                        # Number of correct predictions\n",
    "            total_count = 0                    # Number of images\n",
    "\n",
    "            for i in range(len(X)):\n",
    "                                \n",
    "                x = X[i]                       # Test input\n",
    "                y = Y[i]                       # Actual label\n",
    "                y_ = self.model.eval(x)        # Model's prediction\n",
    "                labels.append(y)\n",
    "                p_labels.append(y_)\n",
    "\n",
    "                if y == y_:\n",
    "                    success += 1\n",
    "                    total_count +=1                         \n",
    "                \n",
    "        return 1.0*success/total_count, getConfusionMatrix(labels,p_labels)\n",
    "\n"
   ]
  },
  {
   "cell_type": "code",
   "execution_count": null,
   "metadata": {},
   "outputs": [
    {
     "name": "stdout",
     "output_type": "stream",
     "text": [
      "qda\n",
      "k = 50\n",
      "k = 200\n",
      "k = 600\n"
     ]
    },
    {
     "name": "stderr",
     "output_type": "stream",
     "text": [
      "/anaconda3/lib/python3.6/site-packages/ipykernel_launcher.py:31: RuntimeWarning: divide by zero encountered in log\n"
     ]
    },
    {
     "name": "stdout",
     "output_type": "stream",
     "text": [
      "k = 800\n"
     ]
    }
   ],
   "source": [
    "        # Load Training Data and Labels\n",
    "        X = list(np.load('big_x_train.npy'))\n",
    "        Y = list(np.load('big_y_train.npy'))\n",
    "\n",
    "        # Load Validation Data and Labels\n",
    "        X_val = list(np.load('big_x_val.npy'))\n",
    "        Y_val = list(np.load('big_y_val.npy'))\n",
    "\n",
    "\n",
    "        # Project Data to 200 Dimensions using CCA\n",
    "        feat_dim = max(X[0].shape)\n",
    "        projections = Projections(feat_dim,CLASS_LABELS)\n",
    "        \n",
    "\n",
    "\n",
    "        models = {}               # Dictionary of key: model names, value: model instance\n",
    "\n",
    "        #########MODELS TO EVALUATE############\n",
    "        qda_m = QDA_Model(CLASS_LABELS)\n",
    "        models['qda'] =  Model(qda_m)\n",
    "\n",
    "        lda_m = LDA_Model(CLASS_LABELS)\n",
    "        models['lda'] = Model(lda_m)\n",
    "\n",
    "        ridge_m = Ridge_Model(CLASS_LABELS)\n",
    "        models['ridge'] = Model(ridge_m)\n",
    "\n",
    "        ridge_m_10 = Ridge_Model(CLASS_LABELS)\n",
    "        ridge_m.lmbda = 10.0\n",
    "        models['ridge_lmda_10'] = Model(ridge_m_10)\n",
    "\n",
    "        ridge_m_01 = Ridge_Model(CLASS_LABELS)\n",
    "        ridge_m.lmbda = 0.1\n",
    "        models['ridge_lmda_01'] = Model(ridge_m_01)\n",
    "\n",
    "        svm_m = SVM_Model(CLASS_LABELS)\n",
    "        models['svm'] = Model(svm_m)\n",
    "\n",
    "        svm_m_10 = SVM_Model(CLASS_LABELS)\n",
    "        svm_m.C = 10.0\n",
    "        models['svm_C_10'] = Model(svm_m_10)\n",
    "\n",
    "        svm_m_01 = SVM_Model(CLASS_LABELS)\n",
    "        svm_m.C = 0.1\n",
    "        models['svm_C_01'] = Model(svm_m_01)\n",
    "\n",
    "\n",
    "\n",
    "\n",
    "        #########GRID SEARCH OVER MODELS############\n",
    "        highest_accuracy = 0                    # Highest validation accuracy\n",
    "        best_model_name = None                  # Best model name\n",
    "        best_model = None                               # Best model instance\n",
    "\n",
    "        K = [50,200,600,800]                    # List of dimensions\n",
    "\n",
    "\n",
    "        for model_key in models.keys():\n",
    "            print(model_key)\n",
    "                \n",
    "            val_acc = []                    # List of model's accuracies for each dimension \n",
    "            for k in K:\n",
    "                print(\"k =\", k)\n",
    "                        \n",
    "                # Evaluate specific model's validation accuracy on specific dimension\n",
    "                acc,c_m = eval_model(X,Y,k,model_key,projections)\n",
    "\n",
    "                val_acc.append(acc)\n",
    "\n",
    "                if acc > highest_accuracy: \n",
    "                    highest_accuracy = acc\n",
    "                    best_model_name = model_key\n",
    "                    best_cm = c_m\n",
    "                                \n",
    "            # Plot specific model's accuracies across validation error\n",
    "            plt.plot(K,val_acc,label=model_key)\n",
    "\n",
    "\n",
    "        # Display aggregate plot of models across validation error\n",
    "        plt.legend()\n",
    "        plt.xlabel('Dimension') \n",
    "        plt.ylabel('Accuracy') \n",
    "        plt.show()\n",
    "\n",
    "\n",
    "        # Plot best model's confusion matrix\n",
    "        plotConfusionMatrix(best_cm,CLASS_LABELS)\n",
    " "
   ]
  },
  {
   "cell_type": "code",
   "execution_count": null,
   "metadata": {},
   "outputs": [],
   "source": []
  }
 ],
 "metadata": {
  "kernelspec": {
   "display_name": "Python 3",
   "language": "python",
   "name": "python3"
  },
  "language_info": {
   "codemirror_mode": {
    "name": "ipython",
    "version": 3
   },
   "file_extension": ".py",
   "mimetype": "text/x-python",
   "name": "python",
   "nbconvert_exporter": "python",
   "pygments_lexer": "ipython3",
   "version": "3.6.4"
  }
 },
 "nbformat": 4,
 "nbformat_minor": 2
}
