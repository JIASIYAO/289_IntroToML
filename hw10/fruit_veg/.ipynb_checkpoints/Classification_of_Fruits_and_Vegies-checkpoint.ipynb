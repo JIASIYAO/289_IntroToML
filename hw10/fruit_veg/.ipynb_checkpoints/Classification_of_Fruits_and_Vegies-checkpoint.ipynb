{
 "cells": [
  {
   "cell_type": "markdown",
   "metadata": {},
   "source": [
    "# Classification of Fruits and Vegies\n",
    "I used the dataset of fruits and vegetables that was collected in our class. Instead of operating on the raw pixel values, I operate on extracted HSV colorspace histogram features from the image. HSV histogram features extract the color spectrum of an image, so I expect these features to serve well for distinguishing produce like bananas from apples."
   ]
  },
  {
   "cell_type": "markdown",
   "metadata": {},
   "source": [
    "# Part 1: Dimentionality Reduction\n",
    "The input state x ∈ R^729, which is an HSV histogram generated from an RGB image with a fruit centered in it. Each data point will have a corresponding class label, which corresponds to their matching produce. Given 25 classes, I can denote the label as y ∈ {0, ..., 24}.\n"
   ]
  },
  {
   "cell_type": "markdown",
   "metadata": {},
   "source": [
    "Classification here is still a hard problem because the state space is much larger than the amount of data we obtained in the class – I am trying to perform classification in a 729 dimensional space with only a few hundred data points from each of the 25 classes. In order to obtain higher accuracy, I will examine how to perform hyper-parameter optimization and dimensionality reduction. "
   ]
  },
  {
   "cell_type": "markdown",
   "metadata": {},
   "source": [
    "I will first build out each component and test on a smaller dataset of just 3 categories: apple, banana, eggplant. Then I will combine the components to perform a search over the entire dataset.\n"
   ]
  },
  {
   "cell_type": "markdown",
   "metadata": {},
   "source": [
    "Before I classify our data, I will study how to reduce the dimensionality of our data. I will project some of the dataset into 2D to visualize how effective different dimensionality reduction procedures are. "
   ]
  },
  {
   "cell_type": "markdown",
   "metadata": {},
   "source": [
    "* 1st method: random projection, where a matrix is randomly created and the data is linearly projected along it. For random projections, it produces a matrix, A ∈ R2×729 where each element Aij is sampled independently from a normal distribution (i.e. Aij ∼ N (0, 1))."
   ]
  },
  {
   "cell_type": "code",
   "execution_count": 2,
   "metadata": {},
   "outputs": [],
   "source": [
    "from numpy.random import uniform\n",
    "from numpy.random import randn\n",
    "import random\n",
    "import time\n",
    "import matplotlib.pyplot as plt\n",
    "from scipy.linalg import eig\n",
    "from scipy.linalg import sqrtm\n",
    "from numpy.linalg import inv\n",
    "from numpy.linalg import svd\n",
    "from utils import create_one_hot_label\n",
    "from utils import subtract_mean_from_data\n",
    "from utils import compute_covariance_matrix\n",
    "import numpy as np\n",
    "import numpy.linalg as LA\n",
    "import sys\n",
    "from numpy.linalg import svd\n",
    "import IPython"
   ]
  },
  {
   "cell_type": "code",
   "execution_count": 4,
   "metadata": {},
   "outputs": [],
   "source": [
    "class Project2D():\n",
    "\n",
    "    ''' Class to draw projection on 2D scatter space'''\n",
    "\n",
    "    def __init__(self,projection, clss_labels):\n",
    "\n",
    "        self.proj = projection\n",
    "        self.clss_labels = clss_labels\n",
    "\n",
    "\n",
    "    def project_data(self,X,Y,white=None):\n",
    "\n",
    "        '''\n",
    "        Takes list of state space and class labels\n",
    "        State space should be 2D\n",
    "        Labels shoud be int'''\n",
    "\n",
    "        p_a = []\n",
    "        p_b = []\n",
    "        p_c = []\n",
    "\n",
    "        ###PROJECT ALL DATA###\n",
    "        proj = np.matmul(self.proj,white)\n",
    "        X_P = np.matmul(proj,np.array(X).T)\n",
    "\n",
    "        for i in range(len(Y)):\n",
    "            if Y[i] == 0:\n",
    "                p_a.append(X_P[:,i])\n",
    "            elif Y[i] == 1:\n",
    "                p_b.append(X_P[:,i])\n",
    "            else:\n",
    "                p_c.append(X_P[:,i])\n",
    "\n",
    "        p_a = np.array(p_a)\n",
    "        p_b = np.array(p_b)\n",
    "        p_c = np.array(p_c)\n",
    "\n",
    "        plt.scatter(p_a[:,0],p_a[:,1],label = 'apple')\n",
    "        plt.scatter(p_b[:,0],p_b[:,1],label = 'banana')\n",
    "        plt.scatter(p_c[:,0],p_c[:,1],label = 'eggplant')\n",
    "        plt.legend()\n",
    "        plt.show()\n"
   ]
  },
  {
   "cell_type": "code",
   "execution_count": null,
   "metadata": {},
   "outputs": [],
   "source": [
    "class Projections():\n",
    "\n",
    "    def __init__(self,dim_x,classes):\n",
    "        '''\n",
    "        dim_x: the dimension of the state space x\n",
    "        classes: The list of class labels'''\n",
    "\n",
    "        self.d_x = dim_x\n",
    "        self.NUM_CLASSES = len(classes)\n",
    "\n",
    "\n",
    "    def get_random_proj(self):\n",
    "\n",
    "        '''\n",
    "        Return A which is size 2 by 729'''\n",
    "\n",
    "        return randn(2,self.d_x)\n",
    "\n",
    "\n",
    "    def pca_projection(self,X,Y):\n",
    "\n",
    "        '''\n",
    "        Return U_2^T '''\n",
    "                \n",
    "        X,Y= subtract_mean_from_data(X,Y)\n",
    "        C_XX = compute_covariance_matrix(X,X)\n",
    "        u,s,d = svd(C_XX)\n",
    "        return u[:,0:2].T\n",
    "\n",
    "    def cca_projection(self,X,Y,k=2):\n",
    "\n",
    "        '''\n",
    "        Return U_K^T, \\Simgma_{XX}^{-1/2} '''\n",
    "\n",
    "        Y = create_one_hot_label(Y,self.NUM_CLASSES)\n",
    "        X,Y = subtract_mean_from_data(X,Y)\n",
    "\n",
    "\n",
    "        C_XY = compute_covariance_matrix(X,Y)\n",
    "        C_XX = compute_covariance_matrix(X,X)\n",
    "        C_YY = compute_covariance_matrix(Y,Y)\n",
    "\n",
    "        dim_x = C_XX.shape[0]\n",
    "        dim_y = C_YY.shape[0]\n",
    "\n",
    "        A = inv(sqrtm(C_XX+1e-5*np.eye(dim_x)))\n",
    "        B = inv(sqrtm(C_YY+1e-5*np.eye(dim_y)))\n",
    "        C = np.matmul(A,np.matmul(C_XY,B))\n",
    "\n",
    "        u,s,d = svd(C)\n",
    "        return u[:,0:k].T, A\n",
    "\n",
    "    def project(self,proj,white,X):\n",
    "        '''\n",
    "        proj, numpy matrix to perform projection\n",
    "        whit, numpy matrix to perform whitenting\n",
    "        X, list of states\n",
    "        '''\n",
    "\n",
    "        proj = np.matmul(proj,white)\n",
    "        X_P = np.matmul(proj,np.array(X).T)\n",
    "        return list(X_P.T)"
   ]
  }
 ],
 "metadata": {
  "kernelspec": {
   "display_name": "Python 3",
   "language": "python",
   "name": "python3"
  },
  "language_info": {
   "codemirror_mode": {
    "name": "ipython",
    "version": 3
   },
   "file_extension": ".py",
   "mimetype": "text/x-python",
   "name": "python",
   "nbconvert_exporter": "python",
   "pygments_lexer": "ipython3",
   "version": "3.6.4"
  }
 },
 "nbformat": 4,
 "nbformat_minor": 2
}
