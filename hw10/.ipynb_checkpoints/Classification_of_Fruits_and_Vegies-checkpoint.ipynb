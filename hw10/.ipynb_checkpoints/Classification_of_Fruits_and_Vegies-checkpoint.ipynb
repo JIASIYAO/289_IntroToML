{
 "cells": [
  {
   "cell_type": "markdown",
   "metadata": {},
   "source": [
    "# Classification of Fruits and Vegies\n",
    "I used the dataset of fruits and vegetables that was collected in our class. Instead of operating on the raw pixel values, I operate on extracted HSV colorspace histogram features from the image. HSV histogram features extract the color spectrum of an image, so I expect these features to serve well for distinguishing produce like bananas from apples."
   ]
  },
  {
   "cell_type": "markdown",
   "metadata": {},
   "source": [
    "# Part 1: Dimentionality Reduction\n",
    "The input state x ∈ R^729, which is an HSV histogram generated from an RGB image with a fruit centered in it. Each data point will have a corresponding class label, which corresponds to their matching produce. Given 25 classes, I can denote the label as y ∈ {0, ..., 24}.\n"
   ]
  },
  {
   "cell_type": "markdown",
   "metadata": {},
   "source": [
    "Classification here is still a hard problem because the state space is much larger than the amount of data we obtained in the class – I am trying to perform classification in a 729 dimensional space with only a few hundred data points from each of the 25 classes. In order to obtain higher accuracy, we will examine how to perform hyper-parameter optimization and dimensionality reduction. "
   ]
  },
  {
   "cell_type": "markdown",
   "metadata": {},
   "source": [
    "I will first build out each component and test on a smaller dataset of just 3 categories: apple, banana, eggplant. Then I will combine the components to perform a search over the entire dataset.\n"
   ]
  },
  {
   "cell_type": "code",
   "execution_count": null,
   "metadata": {},
   "outputs": [],
   "source": []
  }
 ],
 "metadata": {
  "kernelspec": {
   "display_name": "Python 3",
   "language": "python",
   "name": "python3"
  },
  "language_info": {
   "codemirror_mode": {
    "name": "ipython",
    "version": 3
   },
   "file_extension": ".py",
   "mimetype": "text/x-python",
   "name": "python",
   "nbconvert_exporter": "python",
   "pygments_lexer": "ipython3",
   "version": "3.6.4"
  }
 },
 "nbformat": 4,
 "nbformat_minor": 2
}
