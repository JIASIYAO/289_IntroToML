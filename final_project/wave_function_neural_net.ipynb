{
 "cells": [
  {
   "cell_type": "markdown",
   "metadata": {},
   "source": [
    "## Learning Manybody Wavefunction with Neural Network\n",
    "\n",
    "The electronic wave function Ψ is a fundamental object in quantum physics and chemistry. In principle, exponential amount of information is required to solve for the exact, many-body electronic wave function. Therefore many different numerical approximations to the exact wave function has been brought up, among which Restricted Hartree-Fock (RHF) approximation is the simplest and most famous one.\n",
    "\n",
    "\n",
    "In broader sense, finding good approximation to the many-body wave function resides in the realm of dimensionality reduction and feature extraction. This is essentially the same problem people are facing in data science. \n",
    "\n",
    "In this study, we will use artificial neural networks to learn a RHF wave function for a simple molecule, H2. We will also try to decide the optimal values for hyperparameters of our model. In the end, with the well-trained neural network, we will use it to predict one of the most important properties in chemistry, the density of electrons.\n",
    "\n",
    "We also did the similar test for LiH. For sake of simplicity, I didn't include it here. Check the pdf report for more details."
   ]
  },
  {
   "cell_type": "markdown",
   "metadata": {},
   "source": [
    "# Part 1: Data exploration and cleanning\n",
    "Read in the original data file and turn it into a 7*200020 Table.\n",
    "\n",
    "The 7 colums are: x1,y1,z1 for the first H, x2,y2,z2 for the 2nd H, the wave funciton Ψ."
   ]
  },
  {
   "cell_type": "code",
   "execution_count": 3,
   "metadata": {},
   "outputs": [
    {
     "name": "stdout",
     "output_type": "stream",
     "text": [
      "total number of data points: 2000200\n"
     ]
    }
   ],
   "source": [
    "import numpy as np\n",
    "from sklearn.neural_network import MLPRegressor\n",
    "import matplotlib.pyplot as plt\n",
    "import matplotlib.cm as cm \n",
    "\n",
    "def read_data(file_name):\n",
    "    \"\"\"\n",
    "    This function transfer the original txt file into a matrix txt file\n",
    "    We only call this function once and it creates a matrix file\n",
    "    We will use that matrix file as the input file after\n",
    "    \"\"\"\n",
    "    with open(file_name) as f:\n",
    "        content = f.readlines()\n",
    "        \n",
    "    # you may also want to remove whitespace characters like `\\n` at the end of each line\n",
    "    content = [x.strip() for x in content] \n",
    "    content = np.array(content)\n",
    "\n",
    "    # get the first H position\n",
    "    idx1 = np.arange(1, len(content), 4)\n",
    "    pos1 = content[idx1] \n",
    "    xyz1 = np.array([i.split() for i in pos1])\n",
    "    x1 = [float(i) for i in xyz1.T[0]]\n",
    "    y1 = [float(i) for i in xyz1.T[1]]\n",
    "    z1 = [float(i) for i in xyz1.T[2]]\n",
    "    \n",
    "    # get the second H position\n",
    "    idx2 = np.arange(2, len(content), 4)\n",
    "    pos2 = content[idx2] \n",
    "    xyz2 = np.array([i.split() for i in pos2])\n",
    "    x2 = [float(i) for i in xyz2.T[0]]\n",
    "    y2 = [float(i) for i in xyz2.T[1]]\n",
    "    z2 = [float(i) for i in xyz2.T[2]]\n",
    "\n",
    "    # get the psi\n",
    "    idx3 = np.arange(3, len(content), 4)\n",
    "    temp = content[idx3]\n",
    "    psi = np.array([float(i.split()[1]) for i in temp])\n",
    "\n",
    "    # write to a matrix file\n",
    "    X = np.matrix([x1, y1, z1, x2, y2, z2, psi])\n",
    "    np.savetxt('matrix_h2.txt', X)\n",
    "\n",
    "    return len(x1)\n",
    "\n",
    "N_data = read_data('h2.dat')\n",
    "print('total number of data points: {0}'.format(N_data))"
   ]
  },
  {
   "cell_type": "markdown",
   "metadata": {},
   "source": [
    "# Part 2: Model Trainning\n",
    "We use nulti-layer perceptron (MLP) in Sklearn package to fit our RHF data. For each molecule, 1.5 million samples are used to train the neural network and 0.5 million samples are then used to test the trained neural network. The overall training and testing error are plotted by averaging the training and testing error of 10 set of wave function samples. "
   ]
  },
  {
   "cell_type": "code",
   "execution_count": 10,
   "metadata": {},
   "outputs": [],
   "source": [
    "class fit_wfn():\n",
    "    def __init__(self, data):\n",
    "        # read the data: which is a n*7 matrix\n",
    "        self.data = data \n",
    "\n",
    "    def fit(self, verbose=False):\n",
    "        data = self.data\n",
    "\n",
    "        # split into train and test data\n",
    "        train = data.T[0:1500000]\n",
    "        test = data.T[1500000:]\n",
    "        x_train = train.T[0:6].T\n",
    "        y_train = train.T[6].T\n",
    "        x_test = test.T[0:6].T\n",
    "        y_test = test.T[6].T\n",
    "    \n",
    "        # train the model\n",
    "        mlp = MLPRegressor()\n",
    "        mlp.hidden_layer_sizes = self.hidden_layer_sizes\n",
    "        mlp.activation = self.activation\n",
    "        mlp.solver = self.solver\n",
    "        mlp.alpha = self.alpha\n",
    "        mlp.fit(x_train, y_train)    \n",
    "        self.mlp = mlp\n",
    "        \n",
    "        # predict\n",
    "        y_train_p = mlp.predict(x_train)\n",
    "        y_test_p = mlp.predict(x_test)\n",
    "    \n",
    "        # print training and test error\n",
    "        train_error = np.mean((y_train - y_train_p)**2)\n",
    "        test_error = np.mean((y_test - y_test_p)**2)\n",
    "        if verbose:\n",
    "            print(mlp.get_params())\n",
    "            print(\"average training error is : %f\" %(train_error))\n",
    "            print(\"average test error is : %f\" %(test_error))\n",
    "        return train_error, test_error\n",
    "\n",
    "    def predict(self,x):\n",
    "        mlp = self.mlp\n",
    "        return mlp.predict(x)"
   ]
  },
  {
   "cell_type": "markdown",
   "metadata": {},
   "source": [
    "The following is an example showing how we call the funciton"
   ]
  },
  {
   "cell_type": "code",
   "execution_count": 7,
   "metadata": {},
   "outputs": [],
   "source": [
    "data = np.loadtxt('matrix_h2.txt')\n",
    "wfn = fit_wfn(data)\n",
    "wfn.hidden_layer_sizes = (100,1)\n",
    "wfn.activation = 'relu'\n",
    "wfn.solver = 'adam'\n",
    "wfn.alpha = 0.0001\n",
    "train_error, test_error = wfn.fit()"
   ]
  },
  {
   "cell_type": "markdown",
   "metadata": {},
   "source": [
    "Now, lets's try to find the optimal layer size with cross-validation, the minimum test error.\n",
    "\n",
    "In the following figure, we plot the training and testing error of our neural network as a function of different layers and different number of neurons per layer for H2. As we see in the plot, when the number of layers and the number of neurons per layer increases, both the training and testing error goes down. This is due to the increase of the model representability as the number of parameters increases. In all cases we test, we don’t observe an increase of testing error in accompany with decreasing of training error, indicting that our neural network is correctly learning the true pattern of the wave function without hitting the overfitting problem. We therefore conclude that for H2, our simple neural network is ca- pable of learning the correct wave function.\n",
    "\n",
    "Based on this plot, we decide to use (100,2) for the layer size."
   ]
  },
  {
   "cell_type": "code",
   "execution_count": null,
   "metadata": {},
   "outputs": [],
   "source": [
    "neurons = [20,40,60,80,100]\n",
    "layers = [1,2,3,4]\n",
    "loops = 10\n",
    "train_errors = np.zeros((len(neurons), loops, len(layers)))\n",
    "test_errors = np.zeros((len(neurons), loops, len(layers)))\n",
    "colors = cm.rainbow(np.linspace(0, 1, len(neurons)))\n",
    "\n",
    "# go through nerurons and layers, calculate train and test error\n",
    "for i,neuron in enumerate(neurons):\n",
    "    for j in range(loops):\n",
    "        for k,layer in enumerate(layers):\n",
    "            wfn.hidden_layer_sizes = (neuron,layer)\n",
    "            train_errors[i,j,k], test_errors[i,j,k] = wfn.fit() \n",
    "    plt.plot(layers, np.mean(train_errors[i], axis=0), 'o-', c=colors[i], \n",
    "                label='neurons per layer: %d' %neuron)\n",
    "    plt.plot(layers, np.mean(test_errors[i], axis=0), 'o--', c=colors[i])\n",
    "\n",
    "lgd1 = plt.legend(loc='upper left')\n",
    "l1, = plt.plot([],'r-', label='trainning error')\n",
    "l2, = plt.plot([],'r--', label='test error')\n",
    "plt.gca().add_artist(lgd1)\n",
    "plt.legend(handles=[l1,l2], loc='upper right')\n",
    "plt.xlabel('number of layers')\n",
    "plt.ylabel('error')\n",
    "plt.tight_layout()\n",
    "plt.savefig('error_layer_size_h2.png')"
   ]
  },
  {
   "cell_type": "markdown",
   "metadata": {},
   "source": [
    "# Part 3: Plot the Electron Probability Density for H2\n",
    "Based on the testing error, We choose 2-layer and 100-neuron-per-layer as optimal hyperparameter since the testing error is at its minimal when such an architecture is applied. With neural network trained using such parameters for H2. We compute wave function |Ψ|2, the probability density of electrons, on a 2-dimensional grid. The x and y axis of the 2D grid represents the position of first and second electron. We only plot |Ψ|2 value along x-direction of electrons position since the hydrogen atoms are aligned on this axis. "
   ]
  },
  {
   "cell_type": "code",
   "execution_count": 18,
   "metadata": {},
   "outputs": [],
   "source": [
    "# the best fit neural nets params\n",
    "wfn.hidden_layer_sizes = (100,2)\n",
    "wfn.fit()\n",
    "\n",
    "# predict data: Put both electrons only on x axis, range from -5 to 5\n",
    "# the y, z position would be 0\n",
    "x1 = np.linspace(-5,5,500)\n",
    "x2 = np.linspace(-5,5,500)\n",
    "xx1, xx2 = np.meshgrid(x1, x2)\n",
    "xx1_1d = xx1.ravel()\n",
    "xx2_1d = xx2.ravel()\n",
    "y = np.zeros(len(xx1_1d))\n",
    "z = np.zeros(len(xx1_1d))\n",
    "X = np.array([xx1_1d,y,z,xx2_1d,y,z]).T\n",
    "\n",
    "# predict their psi\n",
    "y_1d = wfn.predict(X)\n",
    "y = np.reshape(y_1d,(len(x1), len(x2)))\n"
   ]
  },
  {
   "cell_type": "code",
   "execution_count": 21,
   "metadata": {},
   "outputs": [
    {
     "data": {
      "image/png": "[encoded data removed]",
      "text/plain": [
       "<matplotlib.figure.Figure at 0x1a5d054358>"
      ]
     },
     "metadata": {},
     "output_type": "display_data"
    }
   ],
   "source": [
    "# plot the contour of psi\n",
    "cmap = cm.PRGn\n",
    "norm = cm.colors.Normalize(vmax=abs(y).max(), vmin=-abs(y).max())\n",
    "levels = np.arange(y.min(), y.max(), 0.01)\n",
    "plt.contourf(xx1, xx2, y, levels,cmap=cm.get_cmap(cmap, len(levels) - 1), norm=norm, extend='both')\n",
    "plt.xlabel('x1 (atomic unit))')\n",
    "plt.ylabel('x2 (atomic unit))')\n",
    "cb = plt.colorbar()\n",
    "cb.set_label('wave function')\n",
    "plt.tight_layout()\n",
    "plt.show()"
   ]
  },
  {
   "cell_type": "markdown",
   "metadata": {},
   "source": [
    "The predicted electronic density is shown in the plot above.\n",
    "As we can see in the plot, the electron density is peaked in the range where the positions of both electrons are between 0 and 1. \n",
    "This is as expected since first we know that these two electrons form chemical bond in H2. \n",
    "In order to do so, they need to be in the same location to allow enough overlap of their wave function. \n",
    "As a result, we see the electron density is peaked at where the positions of two electrons are similar.\n",
    "\n",
    "Secondly, since the two hydrogen atoms are located one at origin and another one around 1.5 atomic unit, \n",
    "we do see the electron density peaks in such area. \n",
    "Therefore our neural network successfully learn the physical feature that electrons need to be attracted by nuclei.\n"
   ]
  },
  {
   "cell_type": "markdown",
   "metadata": {},
   "source": [
    "#Part 4: Apply similar test to another molecular: LiH\n",
    "\n"
   ]
  },
  {
   "cell_type": "code",
   "execution_count": null,
   "metadata": {},
   "outputs": [],
   "source": [
    "# first read the data\n",
    "N_data = read_data('h2.dat')\n",
    "print('total number of data points: {0}'.format(N_data))\n",
    "\n",
    "# train data with the fist"
   ]
  },
  {
   "cell_type": "code",
   "execution_count": null,
   "metadata": {},
   "outputs": [],
   "source": []
  }
 ],
 "metadata": {
  "kernelspec": {
   "display_name": "Python 3",
   "language": "python",
   "name": "python3"
  },
  "language_info": {
   "codemirror_mode": {
    "name": "ipython",
    "version": 3
   },
   "file_extension": ".py",
   "mimetype": "text/x-python",
   "name": "python",
   "nbconvert_exporter": "python",
   "pygments_lexer": "ipython3",
   "version": "3.6.4"
  }
 },
 "nbformat": 4,
 "nbformat_minor": 2
}
