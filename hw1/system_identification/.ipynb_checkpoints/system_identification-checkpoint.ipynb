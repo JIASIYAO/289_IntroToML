{
 "cells": [
  {
   "cell_type": "markdown",
   "metadata": {},
   "source": [
    "Making autonomous vehicles involves machine learning for different purposes. One of which is learning how cars actually behave based on their data."
   ]
  },
  {
   "cell_type": "markdown",
   "metadata": {},
   "source": [
    "Consider the time sequence of scalars xt (1D) and ut (1D) in which xt+1 ~ A* xt + B* ut . In control theory, xt usually represents the state, and ut usually represents the control input. Find the numbers A and B so that sum (xt+1 - Axt - But )2 is minimized. The values of xt and ut are stored in a.mat."
   ]
  },
  {
   "cell_type": "code",
   "execution_count": 1,
   "metadata": {},
   "outputs": [
    {
     "name": "stdout",
     "output_type": "stream",
     "text": [
      "A:\n",
      "[[ 0.15  0.93 -0.00]\n",
      " [ 0.04  0.31  0.87]\n",
      " [-0.53  0.05 -0.47]]\n",
      "B:\n",
      "[[ 0.05  0.21 -0.37]\n",
      " [-0.05 -0.93  0.13]\n",
      " [ 0.91 -0.47 -0.84]]\n"
     ]
    }
   ],
   "source": [
    "import numpy as np                                                                                              \n",
    "import scipy.io\n",
    "\n",
    "mdict = scipy.io.loadmat(\"b.mat\")\n",
    "\n",
    "x = mdict['x']\n",
    "u = mdict['u']\n",
    "\n",
    "\n",
    "# Your code to compute a and b\n",
    "X = np.concatenate((x[:-1], u[:-1]), axis=1).T[0]\n",
    "Y = x[1:].T[0]\n",
    "X = np.matrix(X)\n",
    "Y = np.matrix(Y)\n",
    "w = Y @ X.T @ (X @ X.T).I \n",
    "\n",
    "np.set_printoptions(formatter={'float': '{: 0.2f}'.format})\n",
    "print('A:')\n",
    "print(w[:,0:3])\n",
    "print('B:')\n",
    "print(w[:,3:])               "
   ]
  },
  {
   "cell_type": "code",
   "execution_count": null,
   "metadata": {},
   "outputs": [],
   "source": []
  }
 ],
 "metadata": {
  "kernelspec": {
   "display_name": "Python 3",
   "language": "python",
   "name": "python3"
  },
  "language_info": {
   "codemirror_mode": {
    "name": "ipython",
    "version": 3
   },
   "file_extension": ".py",
   "mimetype": "text/x-python",
   "name": "python",
   "nbconvert_exporter": "python",
   "pygments_lexer": "ipython3",
   "version": "3.6.4"
  }
 },
 "nbformat": 4,
 "nbformat_minor": 2
}
